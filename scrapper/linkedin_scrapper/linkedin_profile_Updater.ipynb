{
 "cells": [
  {
   "cell_type": "code",
   "execution_count": 1,
   "id": "16056aa5",
   "metadata": {},
   "outputs": [
    {
     "name": "stdout",
     "output_type": "stream",
     "text": [
      "finish importing\n"
     ]
    }
   ],
   "source": [
    "from selenium import webdriver\n",
    "from selenium.webdriver.chrome.service import Service\n",
    "from selenium.webdriver.common.keys import Keys\n",
    "from bs4 import BeautifulSoup\n",
    "import pandas as pd\n",
    "from selenium.webdriver.common.by import By\n",
    "from time import sleep\n",
    "import csv\n",
    "print ('finish importing')"
   ]
  },
  {
   "cell_type": "code",
   "execution_count": 10,
   "id": "c28289e6",
   "metadata": {
    "scrolled": true
   },
   "outputs": [
    {
     "ename": "IndentationError",
     "evalue": "unexpected indent (3425371459.py, line 21)",
     "output_type": "error",
     "traceback": [
      "\u001b[1;36m  Input \u001b[1;32mIn [10]\u001b[1;36m\u001b[0m\n\u001b[1;33m    exception selenium.common.exceptions.WebDriverException(msg=None, screen=None, stacktrace=None)\u001b[0m\n\u001b[1;37m    ^\u001b[0m\n\u001b[1;31mIndentationError\u001b[0m\u001b[1;31m:\u001b[0m unexpected indent\n"
     ]
    }
   ],
   "source": [
    "midi = Service(\"C:\\\\Users\\\\chandrashekhar.chava\\\\scrapper\\\\driver\\\\chromedriver.exe\")\n",
    "\n",
    "driver = webdriver.Chrome(service = midi)\n",
    "url = 'https://www.linkedin.com/login'\n",
    "driver.get(url)\n",
    "\n",
    "\n",
    "credential = open('credentials.txt')\n",
    "line = credential.readlines()\n",
    "username = line[0]\n",
    "password = line[1]\n",
    "username_input = driver.find_element(By.ID, \"username\")\n",
    "username_input.send_keys(username)\n",
    "\n",
    "Password_input = driver.find_element(By.ID, \"password\")\n",
    "Password_input.send_keys(password)\n",
    "\n",
    "login_field = driver.find_element(By.CSS_SELECTOR, '#organic-div > form > div.login__form_action_container > button')\n",
    "login_field.click()\n",
    "\n",
    "    exception selenium.common.exceptions.WebDriverException(msg=None, screen=None, stacktrace=None)\n",
    "    self.driver = webdriver.Chrome(profile, log_path = logfile)\n",
    "    self.driver = webdriver.Chrome(chrome_profile=profile, log_path='./Log/geckodriver.log')\n",
    "\n"
   ]
  },
  {
   "cell_type": "code",
   "execution_count": null,
   "id": "3079abd6",
   "metadata": {},
   "outputs": [],
   "source": [
    "\n",
    "\n",
    "\n",
    "search_field = driver.find_element(By.XPATH, '//*[@id=\"global-nav-typeahead\"]/input')\n",
    "search_field.send_keys('IT Manager')\n",
    "search_field.send_keys(Keys.RETURN)\n",
    "\n",
    "people_button = driver.find_element(By.XPATH,'//*[@id=\"search-reusables__filters-bar\"]/ul/li[2]/button')\n",
    "people_button.send_keys(Keys.RETURN)\n",
    "\n"
   ]
  },
  {
   "cell_type": "code",
   "execution_count": null,
   "id": "89f688d6",
   "metadata": {},
   "outputs": [],
   "source": [
    "\n",
    "def GetURL():\n",
    "\n",
    "    global all_profile_url\n",
    "    page_source = BeautifulSoup(driver.page_source)\n",
    "    profiles = page_source.find_all('a', class_ = 'app-aware-link')\n",
    "#print(Profiles)\n",
    "\n",
    "    all_profile_url = []\n",
    "    for profile in profiles:\n",
    "        profile_ID = profile.get('href')\n",
    "        profile_url = profile_ID\n",
    "    \n",
    "        if profile_url not in all_profile_url:\n",
    "    \n",
    "            all_profile_url.append(profile_url)\n",
    "    \n",
    "    return all_profile_url\n",
    "    \n",
    "print(GetURL())\n",
    "\n",
    "\n",
    "\n",
    "\n",
    "len(GetURL())\n",
    "\n"
   ]
  },
  {
   "cell_type": "code",
   "execution_count": null,
   "id": "7d66936f",
   "metadata": {},
   "outputs": [],
   "source": [
    "def GetURLsonPages():\n",
    "\n",
    "\n",
    "\n",
    "    #input_page = int(input('how many pages you want to scrap'))\n",
    "    \n",
    "    global URLs_all_page\n",
    "    \n",
    "    URLs_all_page = []\n",
    "    for page in range [15]:\n",
    "        URLs_one_page = GetURL()\n",
    "\n",
    "        driver.execute_script('window.scrollTo(0, document.body.scrollHeight)')\n",
    "        \n",
    "    \n",
    "        \n",
    "\n",
    "        next_button = driver.find_element(By.CLASS_NAME, \"artdeco-pagination__button--next\")\n",
    "        next_button.click()\n",
    "  \n",
    "        URLs_all_page = URLs_all_page + URLs_one_page\n",
    "    \n",
    "    return URLs_all_page\n",
    "\n",
    "print(GetURLsonPages())\n",
    "\n",
    "\n",
    "\n",
    "len(GetURLsonPages())\n",
    "\n",
    "\n",
    "\n",
    "\n",
    "\n",
    "\n",
    "\n",
    "\n"
   ]
  },
  {
   "cell_type": "code",
   "execution_count": null,
   "id": "c4bdf418",
   "metadata": {},
   "outputs": [],
   "source": [
    "#profile_ID = 'https://www.linkedin.com/in/kathykbennett?miniProfileUrn=urn%3Ali%3Afs_miniProfile%3AACoAAAU-WEIByG6fn3GTfh1ssoeJkt2AlkWBwFc'\n",
    "#profile_url = 'https://www.linkedin.com' + profile_ID\n",
    "#print(profile_url)\n"
   ]
  },
  {
   "cell_type": "code",
   "execution_count": null,
   "id": "fcb2e82d",
   "metadata": {},
   "outputs": [],
   "source": [
    "for linkedin_URL in URLs_all_page:\n",
    "    driver.get(URLs_all_page)\n",
    "    page_source = driver.page_source\n",
    "    soup = BeautifulSoup(page_source,\"html.parser\")\n",
    "    #print(page_source)\n",
    "\n",
    "    info_div = soup.find('div', {'class' : 'mt2 relative'})\n",
    "    #print(info_div)\n",
    "\n",
    "    Name = info_div.find('h1').get_text().strip()\n",
    "    print(\"Prospect Name is : \",Name)\n",
    "    \n",
    "    Prospect_Location = info_div.find('span' , class_ = 'text-body-small inline t-black--light break-words').get_text().strip()\n",
    "    print(\"Prospect Location is : \", Prospect_Location)\n",
    "\n",
    "    Job_Title = info_div.find('div',class_ = 'text-body-medium break-words').get_text().strip()\n",
    "    print(\"Prospect Job Title is : \", Job_Title)\n",
    "\n",
    "    Company_Name = info_div.find('div',class_ = 'inline-show-more-text').get_text().strip()\n",
    "    print(\"Prospect Company Name is : \",Company_Name)\n",
    "print('\\n')"
   ]
  },
  {
   "cell_type": "code",
   "execution_count": null,
   "id": "87c7011d",
   "metadata": {},
   "outputs": [],
   "source": []
  },
  {
   "cell_type": "code",
   "execution_count": null,
   "id": "f42470e7",
   "metadata": {},
   "outputs": [],
   "source": []
  }
 ],
 "metadata": {
  "kernelspec": {
   "display_name": "Python 3 (ipykernel)",
   "language": "python",
   "name": "python3"
  },
  "language_info": {
   "codemirror_mode": {
    "name": "ipython",
    "version": 3
   },
   "file_extension": ".py",
   "mimetype": "text/x-python",
   "name": "python",
   "nbconvert_exporter": "python",
   "pygments_lexer": "ipython3",
   "version": "3.9.12"
  },
  "vscode": {
   "interpreter": {
    "hash": "66d313567e275118c87145b3d4c9e022214455223371e48c83396d30e5b3fa5f"
   }
  }
 },
 "nbformat": 4,
 "nbformat_minor": 5
}
